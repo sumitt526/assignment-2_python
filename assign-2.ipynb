{
 "cells": [
  {
   "cell_type": "code",
   "execution_count": 30,
   "id": "1110555a-3565-47e2-9471-15cebb275f4c",
   "metadata": {},
   "outputs": [
    {
     "name": "stdin",
     "output_type": "stream",
     "text": [
      "enter your percentage:-  29\n"
     ]
    },
    {
     "name": "stdout",
     "output_type": "stream",
     "text": [
      "your grade is D \n"
     ]
    }
   ],
   "source": [
    "#qsn1 solution:-\n",
    "\n",
    "marks = int(input(\"enter your percentage:- \"))\n",
    "\n",
    "if marks > 90:\n",
    "    print(\"your grade is A \")\n",
    "elif marks > 80 and marks <= 90:\n",
    "     print(\"your grade is B \")\n",
    "elif marks >= 60 and marks <= 80:\n",
    "     print(\"your grade is C \")\n",
    "else:\n",
    "    print(\"your grade is D \")"
   ]
  },
  {
   "cell_type": "code",
   "execution_count": 36,
   "id": "0d5a7f0f-5d75-48a8-98e4-0b5407435274",
   "metadata": {},
   "outputs": [
    {
     "name": "stdin",
     "output_type": "stream",
     "text": [
      "enter the price of bike:-  200000\n"
     ]
    },
    {
     "name": "stdout",
     "output_type": "stream",
     "text": [
      "you have to pay 15% road tax \n"
     ]
    }
   ],
   "source": [
    "#qsn2 solution:-\n",
    "\n",
    "price = int(input(\"enter the price of bike:- \"))\n",
    "            \n",
    "if price > 100000:\n",
    "            print(\"you have to pay 15% road tax \")\n",
    "elif price > 50000 and price <= 100000:\n",
    "            print(\"you have to pay 10% road tax \")\n",
    "elif price <= 50000:\n",
    "            print(\"you have to pay 5% road tax \")"
   ]
  },
  {
   "cell_type": "code",
   "execution_count": 40,
   "id": "f36e4631-e84c-4792-8e61-b9dc13daf97a",
   "metadata": {},
   "outputs": [
    {
     "name": "stdin",
     "output_type": "stream",
     "text": [
      "enter the city name:-  agra\n"
     ]
    },
    {
     "name": "stdout",
     "output_type": "stream",
     "text": [
      "monument of agra is Taj Mahal\n"
     ]
    }
   ],
   "source": [
    "#qsn3 solution:-\n",
    "\n",
    "city = input(\"enter the city name:- \")\n",
    "\n",
    "if city == \"delhi\":\n",
    "    print('monument of', (city) , 'is Red Fort')\n",
    "elif city == \"agra\":\n",
    "    print('monument of', (city) , 'is Taj Mahal')\n",
    "elif city == \"jaipur\":\n",
    "    print('monument of', (city) , 'is Jal Mahal')"
   ]
  },
  {
   "cell_type": "code",
   "execution_count": 26,
   "id": "e46acc8e-92f6-4bee-9efc-d337dc8dba5d",
   "metadata": {},
   "outputs": [
    {
     "name": "stdin",
     "output_type": "stream",
     "text": [
      "enter your number here:-  936\n"
     ]
    },
    {
     "name": "stdout",
     "output_type": "stream",
     "text": [
      "312\n",
      "104\n",
      "34\n",
      "11\n",
      "3\n",
      "the number 936 is divisible by 3:-> 5 times\n"
     ]
    }
   ],
   "source": [
    "#qsn4 solution:-\n",
    "\n",
    "num = int(input(\"enter your number here:- \"))\n",
    "new_no = 0\n",
    "wow = num\n",
    "while num>=10:\n",
    "    num = num//3\n",
    "    new_no += 1\n",
    "    print(num)\n",
    "print(\"the number\", wow ,\"is divisible by 3:->\",new_no, \"times\")"
   ]
  },
  {
   "cell_type": "code",
   "execution_count": 31,
   "id": "61f411d9-388e-4a88-8757-8bc0aa29ef95",
   "metadata": {},
   "outputs": [
    {
     "name": "stdout",
     "output_type": "stream",
     "text": [
      "Hy Sweetheart\n",
      "Hy Sweetheart\n",
      "Hy Sweetheart\n",
      "Hy Sweetheart\n"
     ]
    }
   ],
   "source": [
    "#qsn5 solution:-\n",
    "\n",
    "\"\"\" while loops are generally used when we don't know how many times to iterate or when we want to execute a set of statement as long as it is true.\n",
    "    and when the condition becomes false, the line immediately after the loop in the program is executed. when while loop is executed the expression is\n",
    "    first evaluated in a Boolean context and if it is true, the loop body is executed. Then the expression is checked again, if it is still true then the body \n",
    "    is executed again and this continues until the expression becomes false. \"\"\"\n",
    "#for example:-\n",
    "\n",
    "n = 0\n",
    "while n <= 3:\n",
    "    n += 1\n",
    "    print(\"Hy Sweetheart\")"
   ]
  },
  {
   "cell_type": "code",
   "execution_count": 15,
   "id": "09fc9613-fd52-42fd-a6a0-ff284ef18f34",
   "metadata": {},
   "outputs": [
    {
     "name": "stdin",
     "output_type": "stream",
     "text": [
      "enter your number here:-  7\n"
     ]
    },
    {
     "name": "stdout",
     "output_type": "stream",
     "text": [
      "**\n",
      "****\n",
      "******\n",
      "********\n",
      "**********\n",
      "************\n",
      "**************\n"
     ]
    }
   ],
   "source": [
    "#qsn6 solution:-\n",
    "#1stpattern:-\n",
    "num = int(input(\"enter your number here:- \"))\n",
    "row = 0\n",
    "while row<num:\n",
    "    star = row + 1\n",
    "    while star>0:\n",
    "        print(\"**\",end=\"\")\n",
    "        star = star - 1\n",
    "    row = row + 1\n",
    "    print()"
   ]
  },
  {
   "cell_type": "code",
   "execution_count": 2,
   "id": "a321a028-fe8c-4d71-b8a5-9dc1947d8f96",
   "metadata": {},
   "outputs": [
    {
     "name": "stdout",
     "output_type": "stream",
     "text": [
      "10\n",
      "9\n",
      "8\n",
      "7\n",
      "6\n",
      "5\n",
      "4\n",
      "3\n",
      "2\n",
      "1\n",
      "0\n"
     ]
    }
   ],
   "source": [
    "#qsn7 solution:-\n",
    "\n",
    "n = 0\n",
    "i = 11\n",
    "while n<=10:\n",
    "    n += 1\n",
    "    i -= 1\n",
    "    print(i)\n"
   ]
  },
  {
   "cell_type": "code",
   "execution_count": null,
   "id": "fac87934-a2f0-4ea6-b53d-25880e9ec62c",
   "metadata": {},
   "outputs": [],
   "source": [
    "#qsn8 solution :- same as qsn7"
   ]
  }
 ],
 "metadata": {
  "kernelspec": {
   "display_name": "Python 3 (ipykernel)",
   "language": "python",
   "name": "python3"
  },
  "language_info": {
   "codemirror_mode": {
    "name": "ipython",
    "version": 3
   },
   "file_extension": ".py",
   "mimetype": "text/x-python",
   "name": "python",
   "nbconvert_exporter": "python",
   "pygments_lexer": "ipython3",
   "version": "3.10.8"
  }
 },
 "nbformat": 4,
 "nbformat_minor": 5
}
